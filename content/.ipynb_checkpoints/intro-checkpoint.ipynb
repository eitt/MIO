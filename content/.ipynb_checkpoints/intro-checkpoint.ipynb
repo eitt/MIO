{
 "cells": [
  {
   "cell_type": "markdown",
   "metadata": {},
   "source": [
    "# Manual de Investigación de Operaciones\n",
    "\n",
    "<a href=\"https://circleci.com/gh/jupyter/jupyter-book\"><img src=\"https://circleci.com/gh/jupyter/jupyter-book.svg?style=svg\" class=\"left\"></a>\n",
    "<a href=\"https://codecov.io/gh/jupyter/jupyter-book\"><img src=\"https://codecov.io/gh/jupyter/jupyter-book/branch/master/graph/badge.svg\" class=\"left\"></a>\n",
    "<a href=\"https://doi.org/10.5281/zenodo.2799972\"><img src=\"https://zenodo.org/badge/DOI/10.5281/zenodo.2799972.svg\" class=\"left\"></a>\n",
    "<div style=\"clear:both;\"></div>\n",
    "\n",
    "A continuación se presentan algunas características relacionadas con el libro.\n",
    "* Autores\n",
    "* ¿Cómo usar este libro?\n",
    "* ¿Por qué el uso de estas tecnologías?\n",
    "* ¿Cómo empezar a utilizar ANACONDA y el lenguaje R en Python?\n",
    "* Otras herramientas utilizadas\n",
    "Para ver otras características revisar [Features section](features/features)."
   ]
  },
  {
   "cell_type": "markdown",
   "metadata": {},
   "source": [
    "## Autores\n",
    "\n",
    "A continuación se presentan los autores según orden alfabético de los apellidos.\n",
    "\n",
    "**Camacho-Pinto, Julio C. [Research Gate](https://www.researchgate.net/profile/Julio_Camacho6/)**\n",
    "\n",
    "\n",
    "\n",
    "**Talero-Sarmiento, Leonardo H. [Research Gate](https://www.researchgate.net/profile/Leonardo_Talero/)**\n",
    "\n",
    "Actualmente es estudiante de Doctorado en Ingeniería en la [Universidad Autónoma de Bucaramanga, UNAB](https://www.unab.edu.co/), Magíster en Ingeniería Industrial, e Ingeniero Industrial de la [Universidad Industrial de Santander, UIS](https://www.uis.edu.co/); se desempeña como Profesor e Investigador en la **UIS** y **UNAB**; como docente en las áreas de Investigación de Operaciones, Diseño de Experimentos, Aplciación de técnicas de aprendizaje automático, e investigador en analítica de datos, y producción. Su experiencia se centra en:\n",
    "1. Modelado de series estocásticas y validación de pruebas de hipótesis en Finanzas.\n",
    "2. Aplicación de programación matemática multiobjetivo, multiperiodo con integración de metaheurísticas en el área de Producción.\n",
    "3. Desarrollo de modelos de ecuaciones estructurales y análisis de datos en el área de Administración.\n",
    "4. Participación en el sector Industria como Consultor y Analista de procesos mediante la generación de modelos matemáticos y de simulación. "
   ]
  },
  {
   "cell_type": "markdown",
   "metadata": {},
   "source": [
    "## ¿Cómo usar este libro?\n",
    "MIO es un libro práctico enfocado a la investigación Operativa, posee las características de manual o *handbook* con la particularidad de desarrollar y resolver ejercicios en el lenguaje de programación **R**. Está dividido por capítulos relacionados con estrategias de modelado matemático para la toma de decisiones, en cada uno de éstos se encuentran explicaciones teóricas, ejercicios resueltos y propuestos, así como la presentación y explicación de herramientas de base tecnológica (particularmente paquetes).\n",
    "\n",
    "El libro puede ser usado por profesores como una guía para la creación de ejercicios básicos a usar de ejemplo en los contenidos curriculares asociados a materias como Investigación de Operaciones. En el caso de estudiantes, sirver como material de estudio y se enfoca principalmente en reforzar el uso de la herramienta **R**."
   ]
  },
  {
   "cell_type": "markdown",
   "metadata": {},
   "source": [
    "## ¿Por qué el uso de estas tecnologías?\n",
    "\n",
    "La estructura del MIO se basa en la implementación de contenidos programaticos utilizando Notebooks, éstos son unas herramientas muy útiles para resolver ejercicios utilizando lenguajes de programación de alto nivel, en conjunto con herramientas visuales. Para el uso de Notebooks se propone trabajar con Jupyter que es una herrameinta contenida en ANACONDA. [ANACONDA](https://www.anaconda.com/) es una paltaforma que permite el uso dele lenguale Python, con un enfoque particular en el análsis o ciencia de datos, aprendizaje automático y aplicación de técnicas de inteligencia artificial. ANACONDA permite el trabajo colaborativo con la facilidad de integrar diferentes lenguajes de programaciçon a partir de la instalación de kernels. Entre las diferentes herramientas se encuentra [Jupyter Notebook](https://jupyter.org/), que es una aplicación web de código abierto que permite crear y compartir documentos que contienen código interactivo, ecuaciones escritas en LaTeX, visualizar herramientas desarrolladas en JavaScript, e insertar texto narrativo o descriptivo. Mediante los Notebboks de Jupyter es posible ejecutar una limpieza y transformación de datos, simulación numérica, modelado estadístico, visualización de datos, aprendizaje automático, entre otras cosas más."
   ]
  },
  {
   "cell_type": "markdown",
   "metadata": {},
   "source": [
    "## ¿Cómo empezar a utilizar ANACONDA y el lenguaje R en Python?"
   ]
  },
  {
   "cell_type": "markdown",
   "metadata": {},
   "source": [
    "## Getting started\n",
    "\n",
    "*This documentation is for the [master branch of Jupyter Book](https://github.com/jupyter/jupyter-book), which\n",
    "means that it might be slightly out-of-date with the\n",
    "[latest version released](https://pypi.org/project/jupyter-book/) on pip*.\n",
    "\n",
    "To get started, you may be interested in the following links.\n",
    "Here are a few links of interest:\n",
    "\n",
    "* **[Jupyter Book features](features/features)** is a quick demo and overview\n",
    "  of Jupyter Books.\n",
    "\n",
    "* **[The Jupyter Book Guide](guide/01_overview)**\n",
    "  will step you through the process of configuring and building your own Jupyter Book.\n",
    "\n",
    "### Installation\n",
    "\n",
    "To install the Jupyter Book command-line interface (CLI), use `pip`!\n",
    "\n",
    "```\n",
    "pip install jupyter-book\n",
    "```\n",
    "\n",
    "alternatively, if you'd like to install the latest version from GitHub,\n",
    "you can run:\n",
    "\n",
    "```\n",
    "pip install git+https://github.com/jupyter/jupyter-book\n",
    "```\n",
    "\n",
    "This will install the *master branch* of Jupyter Book (what these docs are\n",
    "built from), though it might be a bit less-stable.\n",
    "\n",
    "### Create a new book\n",
    "\n",
    "Once you've installed the CLI, create a new book using the demo book content\n",
    "(the website that you're viewing now) with this command:\n",
    "\n",
    "```\n",
    "jupyter-book create mybookname --demo\n",
    "```\n",
    "\n",
    "### Build the markdown for your book\n",
    "\n",
    "Now, build the markdown that Jekyll will use for your book. Run this command:\n",
    "\n",
    "```\n",
    "jupyter-book build mybookname\n",
    "```\n",
    "\n",
    "### That's it!\n",
    "\n",
    "You can now either push your book to GitHub and serve the demo with gh-pages,\n",
    "or modify the book with your own content.\n",
    "\n",
    "\n",
    "## Agradecimientos\n",
    "\n",
    "Jupyter Books was originally created by [Sam Lau][sam] and [Chris Holdgraf][chris]\n",
    "with support of the .\n",
    "\n",
    "[sam]: http://www.samlau.me/\n",
    "[chris]: https://predictablynoisy.com"
   ]
  },
  {
   "cell_type": "code",
   "execution_count": null,
   "metadata": {},
   "outputs": [],
   "source": []
  }
 ],
 "metadata": {
  "kernelspec": {
   "display_name": "Python 3",
   "language": "python",
   "name": "python3"
  },
  "language_info": {
   "codemirror_mode": {
    "name": "ipython",
    "version": 3
   },
   "file_extension": ".py",
   "mimetype": "text/x-python",
   "name": "python",
   "nbconvert_exporter": "python",
   "pygments_lexer": "ipython3",
   "version": "3.7.5"
  },
  "widgets": {
   "application/vnd.jupyter.widget-state+json": {
    "state": {},
    "version_major": 2,
    "version_minor": 0
   }
  }
 },
 "nbformat": 4,
 "nbformat_minor": 4
}
