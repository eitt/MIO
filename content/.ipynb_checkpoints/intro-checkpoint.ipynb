{
 "cells": [
  {
   "cell_type": "markdown",
   "metadata": {},
   "source": [
    "# Manual de Investigación de Operaciones\n",
    "\n",
    "<a href=\"https://circleci.com/gh/jupyter/jupyter-book\"><img src=\"https://circleci.com/gh/jupyter/jupyter-book.svg?style=svg\" class=\"left\"></a>\n",
    "<a href=\"https://codecov.io/gh/jupyter/jupyter-book\"><img src=\"https://codecov.io/gh/jupyter/jupyter-book/branch/master/graph/badge.svg\" class=\"left\"></a>\n",
    "<a href=\"https://doi.org/10.5281/zenodo.2799972\"><img src=\"https://zenodo.org/badge/DOI/10.5281/zenodo.2799972.svg\" class=\"left\"></a>\n",
    "<div style=\"clear:both;\"></div>\n",
    "\n",
    "A continuación se presentan algunas características relacionadas con el libro.\n",
    "* Autores\n",
    "* ¿Cómo usar este libro?\n",
    "* ¿Cómo empezar a utilizar ANACONDA y el lenguaje R en Python?\n",
    "* Otras herramientas utilizadas\n",
    "Para ver otas características revisar [Features section](features/features)."
   ]
  },
  {
   "cell_type": "markdown",
   "metadata": {},
   "source": [
    "## Autores\n",
    "**Camacho-Pinto, Julio C. [Research Gate](https://www.researchgate.net/profile/Julio_Camacho6/)**\n",
    "\n",
    "**Talero-Sarmiento, Leonardo H. [Research Gate](https://www.researchgate.net/profile/Leonardo_Talero/)**"
   ]
  },
  {
   "cell_type": "markdown",
   "metadata": {},
   "source": [
    "## ¿Cómo usar este libro?"
   ]
  },
  {
   "cell_type": "markdown",
   "metadata": {},
   "source": [
    "## Getting started\n",
    "\n",
    "*This documentation is for the [master branch of Jupyter Book](https://github.com/jupyter/jupyter-book), which\n",
    "means that it might be slightly out-of-date with the\n",
    "[latest version released](https://pypi.org/project/jupyter-book/) on pip*.\n",
    "\n",
    "To get started, you may be interested in the following links.\n",
    "Here are a few links of interest:\n",
    "\n",
    "* **[Jupyter Book features](features/features)** is a quick demo and overview\n",
    "  of Jupyter Books.\n",
    "\n",
    "* **[The Jupyter Book Guide](guide/01_overview)**\n",
    "  will step you through the process of configuring and building your own Jupyter Book.\n",
    "\n",
    "### Installation\n",
    "\n",
    "To install the Jupyter Book command-line interface (CLI), use `pip`!\n",
    "\n",
    "```\n",
    "pip install jupyter-book\n",
    "```\n",
    "\n",
    "alternatively, if you'd like to install the latest version from GitHub,\n",
    "you can run:\n",
    "\n",
    "```\n",
    "pip install git+https://github.com/jupyter/jupyter-book\n",
    "```\n",
    "\n",
    "This will install the *master branch* of Jupyter Book (what these docs are\n",
    "built from), though it might be a bit less-stable.\n",
    "\n",
    "### Create a new book\n",
    "\n",
    "Once you've installed the CLI, create a new book using the demo book content\n",
    "(the website that you're viewing now) with this command:\n",
    "\n",
    "```\n",
    "jupyter-book create mybookname --demo\n",
    "```\n",
    "\n",
    "### Build the markdown for your book\n",
    "\n",
    "Now, build the markdown that Jekyll will use for your book. Run this command:\n",
    "\n",
    "```\n",
    "jupyter-book build mybookname\n",
    "```\n",
    "\n",
    "### That's it!\n",
    "\n",
    "You can now either push your book to GitHub and serve the demo with gh-pages,\n",
    "or modify the book with your own content.\n",
    "\n",
    "\n",
    "## Agradecimientos\n",
    "\n",
    "Jupyter Books was originally created by [Sam Lau][sam] and [Chris Holdgraf][chris]\n",
    "with support of the .\n",
    "\n",
    "[sam]: http://www.samlau.me/\n",
    "[chris]: https://predictablynoisy.com"
   ]
  },
  {
   "cell_type": "code",
   "execution_count": null,
   "metadata": {},
   "outputs": [],
   "source": []
  }
 ],
 "metadata": {
  "kernelspec": {
   "display_name": "Python 3",
   "language": "python",
   "name": "python3"
  },
  "language_info": {
   "codemirror_mode": {
    "name": "ipython",
    "version": 3
   },
   "file_extension": ".py",
   "mimetype": "text/x-python",
   "name": "python",
   "nbconvert_exporter": "python",
   "pygments_lexer": "ipython3",
   "version": "3.7.5"
  },
  "widgets": {
   "application/vnd.jupyter.widget-state+json": {
    "state": {},
    "version_major": 2,
    "version_minor": 0
   }
  }
 },
 "nbformat": 4,
 "nbformat_minor": 4
}
