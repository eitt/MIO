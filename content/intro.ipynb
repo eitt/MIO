{
 "cells": [
  {
   "cell_type": "markdown",
   "metadata": {},
   "source": [
    "# Introducción\n",
    "\n",
    "<a href=\"https://circleci.com/gh/jupyter/jupyter-book\"><img src=\"https://circleci.com/gh/jupyter/jupyter-book.svg?style=svg\" class=\"left\"></a>\n",
    "<a href=\"https://codecov.io/gh/jupyter/jupyter-book\"><img src=\"https://codecov.io/gh/jupyter/jupyter-book/branch/master/graph/badge.svg\" class=\"left\"></a>\n",
    "<a href=\"https://doi.org/10.5281/zenodo.2799972\"><img src=\"https://zenodo.org/badge/DOI/10.5281/zenodo.2799972.svg\" class=\"left\"></a>\n",
    "<div style=\"clear:both;\"></div>\n",
    "\n",
    "A continuación se presentan algunas características relacionadas con el libro.\n",
    "* Autores\n",
    "* ¿Cómo usar este libro?\n",
    "* ¿Por qué el uso de estas tecnologías?\n",
    "* ¿Cómo empezar a utilizar ANACONDA y el lenguaje R en Python?\n",
    "* Agradecimientos"
   ]
  },
  {
   "cell_type": "markdown",
   "metadata": {},
   "source": [
    "## Autores\n",
    "\n",
    "A continuación se presentan los autores según orden alfabético de los apellidos.\n",
    "\n",
    "**Camacho-Pinto, Julio C. [Research Gate](https://www.researchgate.net/profile/Julio_Camacho6/)**\n",
    "\n",
    "\n",
    "\n",
    "**Talero-Sarmiento, Leonardo H. [Research Gate](https://www.researchgate.net/profile/Leonardo_Talero/)**\n",
    "\n",
    "Actualmente es estudiante de Doctorado en Ingeniería en la [Universidad Autónoma de Bucaramanga, UNAB](https://www.unab.edu.co/), Magíster en Ingeniería Industrial, e Ingeniero Industrial de la [Universidad Industrial de Santander, UIS](https://www.uis.edu.co/); se desempeña como Profesor e Investigador en la **UIS** y **UNAB**; como docente en las áreas de Investigación de Operaciones, Diseño de Experimentos, Aplciación de técnicas de aprendizaje automático, e investigador en analítica de datos, y producción. Su experiencia se centra en:\n",
    "1. Modelado de series estocásticas y validación de pruebas de hipótesis en Finanzas.\n",
    "2. Aplicación de programación matemática multiobjetivo, multiperiodo con integración de metaheurísticas en el área de Producción.\n",
    "3. Desarrollo de modelos de ecuaciones estructurales y análisis de datos en el área de Administración.\n",
    "4. Participación en el sector Industria como Consultor y Analista de procesos mediante la generación de modelos matemáticos y de simulación. "
   ]
  },
  {
   "cell_type": "markdown",
   "metadata": {},
   "source": [
    "## ¿Cómo usar este libro?\n",
    "MIO es un libro práctico enfocado a la investigación Operativa, posee las características de manual o *handbook* con la particularidad de desarrollar y resolver ejercicios en el lenguaje de programación **R**. Está dividido por capítulos relacionados con estrategias de modelado matemático para la toma de decisiones, en cada uno de éstos se encuentran explicaciones teóricas, ejercicios resueltos y propuestos, así como la presentación y explicación de herramientas de base tecnológica (particularmente paquetes).\n",
    "\n",
    "El libro puede ser usado por profesores como una guía para la creación de ejercicios básicos a usar de ejemplo en los contenidos curriculares asociados a materias como Investigación de Operaciones. En el caso de estudiantes, sirver como material de estudio y se enfoca principalmente en reforzar el uso de la herramienta **R**."
   ]
  },
  {
   "cell_type": "markdown",
   "metadata": {},
   "source": [
    "## ¿Por qué el uso de estas tecnologías?\n",
    "\n",
    "La estructura del MIO se basa en la implementación de contenidos programaticos utilizando Notebooks, éstos son unas herramientas muy útiles para resolver ejercicios utilizando lenguajes de programación de alto nivel, en conjunto con herramientas visuales. Para el uso de Notebooks se propone trabajar con Jupyter que es una herrameinta contenida en ANACONDA. [ANACONDA](https://www.anaconda.com/) es una paltaforma que permite el uso dele lenguale Python, con un enfoque particular en el análsis o ciencia de datos, aprendizaje automático y aplicación de técnicas de inteligencia artificial. ANACONDA permite el trabajo colaborativo con la facilidad de integrar diferentes lenguajes de programaciçon a partir de la instalación de kernels. Entre las diferentes herramientas se encuentra [Jupyter Notebook](https://jupyter.org/), que es una aplicación web de código abierto que permite crear y compartir documentos que contienen código interactivo, ecuaciones escritas en LaTeX, visualizar herramientas desarrolladas en JavaScript, e insertar texto narrativo o descriptivo. Mediante los Notebboks de Jupyter es posible ejecutar una limpieza y transformación de datos, simulación numérica, modelado estadístico, visualización de datos, aprendizaje automático, entre otras cosas más."
   ]
  },
  {
   "cell_type": "markdown",
   "metadata": {},
   "source": [
    "## ¿Cómo empezar a utilizar ANACONDA y el lenguaje R en Python?\n",
    "\n",
    "### Usar R en un Notebook de Python\n",
    "\n",
    "Para poder aprovechar la incorporación de herramientas dinámicas en un Notebook de Python y, de manera simultánea usar R, hay diferentes opciones. Si el interés es trabajar de manera simultánea los dos lenguajes es necesario instalar [rpy2](https://pypi.org/project/rpy2/), el cual es un proyecto que permite generar una interfaz de R en Python. Para instalarlo es necesario abrir el cuadro de comandos de ANACONDA (*anaconda prompt*), y ejecutar el siguiente comando.\n",
    "\n",
    "```python\n",
    "conda install rpy2\n",
    "```\n",
    "\n",
    "Una vez instalado, es posible usar la interfaz de R mediante la ejecución de una celda tipo mágica ([magics cells](https://ipython.readthedocs.io/en/stable/interactive/magics.html)); sin embargo, es necesario ejecutar por una sola vez el siguiente código en alguna celda.\n",
    "```python\n",
    "%load_ext rpy2.ipython\n",
    "```\n",
    "Ahora bien, es necesario resaltar que se recomienda cargar primero el paquete de pandas de python usando el siguiente código:\n",
    "```python\n",
    "import pandas as pn\n",
    "```\n",
    "La otra manera es creando directamente un Notebook con un kernel que soporte R. Para ello se puede cargar el kernel desde ANACONDA Navigator siguiendo estos pasos:\n",
    "\n",
    "1. Abrir ANACONDA Navigator.\n",
    "2. Dar clic en la sección de **Enviroments** (Menú vertial al lado izquierdo de la pantalla).\n",
    "3. Dar clic en la opción **Create** (Menú horizontal en la parte inferior de la pantalla).\n",
    "4. Seleccionar R, y aceptar los cambios.\n",
    "\n",
    "No obstante, el presente manual está diseñado para que los códigos funcionan en otra interfaz de desarrollo como [RStudio](https://rstudio.com/).\n"
   ]
  },
  {
   "cell_type": "markdown",
   "metadata": {},
   "source": [
    "## Agradecimientos"
   ]
  }
 ],
 "metadata": {
  "kernelspec": {
   "display_name": "Python 3",
   "language": "python",
   "name": "python3"
  },
  "language_info": {
   "codemirror_mode": {
    "name": "ipython",
    "version": 3
   },
   "file_extension": ".py",
   "mimetype": "text/x-python",
   "name": "python",
   "nbconvert_exporter": "python",
   "pygments_lexer": "ipython3",
   "version": "3.7.5"
  },
  "widgets": {
   "application/vnd.jupyter.widget-state+json": {
    "state": {},
    "version_major": 2,
    "version_minor": 0
   }
  }
 },
 "nbformat": 4,
 "nbformat_minor": 4
}
