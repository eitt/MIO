{
 "cells": [
  {
   "cell_type": "markdown",
   "metadata": {},
   "source": [
    "# Método Gráfico\n",
    "\n",
    "<img src=\"ejemplo-Desmos.png\" alt=\"Ejemplo de la construcción de un espacio de búsqueda en DESMOS\" title=\"Ejemplo de la construcción de un espacio de búsqueda en DESMOS\" />\n",
    "\n",
    "## Introducción\n",
    "\n",
    "El método gráfico para la resolución de problemas de programación lineal es generalmente utilizado de manera introductoria. Principalmente debido a que éste se aplica cuando existen sólo dos variables de decisión, condición que no es común en la mayoría de problemas; sin embargo, es a partir del análisis gráfico que es posible describir el [Método Simplex](/pl/ms/1) que permite la resolución de problemas con más de dos variables.\n",
    "\n",
    "En esencia, el método gráfico es un análisis del espacio de búsqueda y su correspondiente función objetivo, con la ventaja de poder representar de manera simultánea tres dimensiones que corresponden a los ejes de las abscisas ($x_1,x_2$) y el eje ordenado de la función objetivo, comúnmente descrito con la variable $z$. Por consiguiente, el método gráfico es el análisis de crecimiento o decrecimiento del plano $z$ que depende de las variables $x_1,x_2$, es decir, $z=f(x_1,x_2)$, donde esta relación se puede reescribir de la siguiente manera: $z-a_1x_1-a_2x_2=0$, que la respectiva ecuación de un plano, donde $a_1 y a_2$ son los coeficientes que pre multiplican a las variables de decisión.\n",
    "\n",
    "De manera general, los problemas de programación lineal implican variables de decisión que compiten entre sí por el uso de recursos limitados, por ejemplo, para la construcción de implantes impresos en 3D, una compañía se especializa en el desarrollo de dos tipos de implantes: \n",
    "\n",
    "1. Implantes dentales.\n",
    "2. Implantes óseos.\n",
    "\n",
    "Con el fin de simplificar, se puede suponer que sólo se fabrica una referencia de cada tipo de implante. Como ambos implantes utilizan la misma materia prima, es necesario decidir cuánto de cada tipo de implante se va a fabricar considerando elementos como la demanda de los productos, los recursos en común (maquinaria, empleados, materia prima, etc.), ingresos percibidos, y demás elementos o consideraciones que permitan describir el problema a resolver.\n",
    "\n",
    "Esta situación (diversos productos que compiten entre sí por recursos) se denomina frecuentemente mezcla de productos, y su estructura es ampliamente utilizada en diversos campos como: construcción, agricultura, metalurgia, servicios, entre otros. {% cite Heady1954%}\n"
   ]
  },
  {
   "cell_type": "markdown",
   "metadata": {},
   "source": [
    "## Espacio de búsqueda en el método gráfico\n",
    "\n",
    "Como se indica en los [cinco pasos para modelar un *PL*](/pl/intro), una vez definidas las variables, la función objetivo con su respectivo criterio, es necesario construir el espacio de búsqueda, o espacio de restricciones. Para ello, se puede partir de la siguiente inecuación: $𝑓(𝑥_1,𝑥_2)≤𝑏$ o $𝑓(𝑥_1,𝑥_2)≥𝑏$. \n",
    "\n",
    "Se puede demostrar que, en dos dimensiones, el conjunto de puntos que satisface una desigualdad lineal (o inecuación) comprende o contiene los puntos en la recta $𝑓(𝑥_1,𝑥_2)=𝑏$, que define la desigualdad más todos los puntos de un lado de la recta (puntos por encima en el caso de ser mayor o igual $\"≥\"$, o los puntos inferiores para el escenario de menor igual $\"≤\"$). Sin embargo, en algunos casos no es tan intuitivo determinar qué lado de la recta corresponde a la desigualdad, por tanto, se elige un punto $𝑃$ arbitrario y a partir de este se evalúa la condición de la restricción."
   ]
  },
  {
   "cell_type": "markdown",
   "metadata": {},
   "source": [
    "### Restricciones de igualdad\n",
    "Normalmente un PL de dos variables, cuyas variables de decisión corresponden a $𝑥_1$  y $𝑥_2$, presenta una forma similar a la  siguiente restricción:\n",
    "\n",
    "\\begin{equation*}\n",
    "-2𝑥_1+1.5𝑥_2=6\n",
    "\\end{equation*}\n",
    "\n",
    "Donde los valores de $-2$ y de $1.5$ que pre multiplican a las variables $𝑥_1,𝑥_2$ son un ejemplo de las posibles realizaciones de la carga $c\\in R$. Al observar la ecuación que describe la restricción se encuentra que el mismo conjunto de puntos satisface $(𝑥_1,𝑥_2)$ satisface:\n",
    "\n",
    "\\begin{equation*}\n",
    "1.5𝑥_2=6+2𝑥_1\n",
    "\\end{equation*}\n",
    "\n",
    "De igual forma satisface:\n",
    "\n",
    "\\begin{equation*}\n",
    "𝑥_2=4−\\frac{2}{1.5}𝑥_1=>𝑥_2=4−\\frac{4}{3}𝑥_1\n",
    "\\end{equation*}\n",
    "\n",
    "o:\n",
    "\n",
    "\\begin{equation*}\n",
    "𝑥_1=\\frac{1.5𝑥_2-6}{-2}=>𝑥_1=\\frac{-3}{4}𝑥_2+3 \n",
    "\\end{equation*}\n",
    "\n",
    "Según la variable que se desee expresar como dependiente.\n",
    "\n",
    "Ahora bien, esta relación al estar en $R^2$ puede ser representada de manera gráfica. En *R* es posible realziar gráficas de funciones, para ello son necesarios los siguientes pasos:\n",
    "\n",
    "1. Definir la función.\n",
    "2. Determinar el dominio de la variable en el eje de las absisas.\n",
    "3. Utilziar un paquete *package* de gráficos.\n",
    "\n",
    "Por lo general, como buena práctica se cargan los paquetes al principio de cada código. Como tal se trabajará con el paquete [ggplot2](https://ggplot2.tidyverse.org/) éste permite generar  manera flexible diferentes tipso de gráficos, para ahondar más se pueden consultar *R for data science* {% cite wickham2016r%}, *ggplot2: elegant graphics for data analysis* {% cite wickham2016ggplot2%}, y *R graphics cookbook* {% cite chang2018r%}. A continuación se muestra la manera en la cual se puede graficar la restricción de ejemplo $𝑥_2=4−\\frac{4}{3}𝑥_1$\n",
    "\n",
    "```r\n",
    "#1. Se carga el paquete\n",
    "library(ggplot2)\n",
    "#2. Se define la función relacionada con la restricción 1 (r.1)\n",
    "r.1 <- function(x) 4-4/3*x\n",
    "#3. Se declaran los límites:\n",
    "#Límite inferior (l.i)\n",
    "l.i <- 0 #Las variables normalmente son restrictas y mayores o iguales a cero\n",
    "#Límite superior (l.s)\n",
    "l.s <- 10 #Límite arbitrario\n",
    "```\n",
    "Una vez definida la estructura de la función, se procede a graficar utilizando el paquete `ggplot2`\n",
    "\n",
    "```r\n",
    "#Se acostumbra a almacenar la gráfica en una variable denominada p (por gráfico en inglés)\n",
    "#Se genera un conjunto de datos artificial para generar la estructura base\n",
    "p <- ggplot(data = data.frame(x = 0), mapping = aes(x = x))\n",
    "#Se agrega la función definida previamente, incluyendo los límites.\n",
    "p + stat_function(fun = fun.1) + xlim(l.i,l.s)\n",
    "```"
   ]
  },
  {
   "cell_type": "code",
   "execution_count": 3,
   "metadata": {},
   "outputs": [
    {
     "data": {
      "image/png": "[encoded data removed]",
      "text/plain": [
       "plot without title"
      ]
     },
     "metadata": {},
     "output_type": "display_data"
    }
   ],
   "source": [
    "#1. Se carga el paquete\n",
    "library(ggplot2)\n",
    "#2. Se define la función relacionada con la restricción 1 (r1)\n",
    "r1 <- function(x) {4-4/3*x}\n",
    "#3. Se declaran los límites:\n",
    "#Límite inferior (li)\n",
    "li <- 0 #Las variables normalmente son restrictas y mayores o iguales a cero\n",
    "#Límite superior (ls)\n",
    "ls <- 10 #Límite arbitrario\n",
    "\n",
    "#Se acostumbra a almacenar la gráfica en una variable denominada p (por gráfico en inglés)\n",
    "#Se genera un conjunto de datos artificial para generar la estructura base\n",
    "p <- ggplot(data = data.frame(x = 0), mapping = aes(x = x))\n",
    "#Se agrega la función definida previamente, incluyendo los límites.\n",
    "p + stat_function(fun = r1) + xlim(li,ls)"
   ]
  },
  {
   "cell_type": "code",
   "execution_count": null,
   "metadata": {},
   "outputs": [],
   "source": []
  }
 ],
 "metadata": {
  "kernelspec": {
   "display_name": "R",
   "language": "R",
   "name": "ir"
  },
  "language_info": {
   "codemirror_mode": "r",
   "file_extension": ".r",
   "mimetype": "text/x-r-source",
   "name": "R",
   "pygments_lexer": "r",
   "version": "3.6.1"
  }
 },
 "nbformat": 4,
 "nbformat_minor": 2
}
